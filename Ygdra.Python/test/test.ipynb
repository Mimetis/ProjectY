{
 "metadata": {
  "language_info": {
   "codemirror_mode": {
    "name": "ipython",
    "version": 3
   },
   "file_extension": ".py",
   "mimetype": "text/x-python",
   "name": "python",
   "nbconvert_exporter": "python",
   "pygments_lexer": "ipython3",
   "version": "3.8.5-final"
  },
  "orig_nbformat": 2,
  "kernelspec": {
   "name": "python3",
   "display_name": "Python 3.8.5 64-bit ('ygdra': conda)",
   "metadata": {
    "interpreter": {
     "hash": "012c08269626b70e2edb2afece5db8cd2d4619ea33defb7d36b2c623e72f7c6d"
    }
   }
  }
 },
 "nbformat": 4,
 "nbformat_minor": 2,
 "cells": [
  {
   "cell_type": "code",
   "execution_count": 1,
   "metadata": {},
   "outputs": [],
   "source": [
    "import os\n",
    "import IPython\n",
    "import uuid\n",
    "from pyspark.sql import DataFrame, SparkSession\n",
    "from pyspark.sql.functions import mean, stddev, col, min, max , avg, skewness as skew, variance, sum, lit, round, length\n",
    "from pyspark.sql.types import StringType, IntegerType\n",
    "import math\n",
    "import requests\n",
    "import http.client\n",
    "import json\n",
    "from azure.identity import DefaultAzureCredential, ClientSecretCredential\n",
    "import pandas as pd\n",
    "from typing import Tuple\n",
    "import re\n",
    "from ygdra import *\n",
    "\n"
   ]
  },
  {
   "cell_type": "code",
   "execution_count": 2,
   "metadata": {},
   "outputs": [
    {
     "output_type": "stream",
     "name": "stdout",
     "text": [
      "Hello World\n"
     ]
    }
   ],
   "source": [
    "print(printit())"
   ]
  },
  {
   "cell_type": "code",
   "execution_count": 3,
   "metadata": {},
   "outputs": [
    {
     "output_type": "stream",
     "name": "stdout",
     "text": [
      "create a spark instance\n"
     ]
    }
   ],
   "source": [
    "# spark already exists in Databricks.\n",
    "# if launching from databricks-connect, we need get a new instance\n",
    "try:\n",
    "  # check if spark already exists\n",
    "  spark\n",
    "  print('spark already exists')\n",
    "except NameError:\n",
    "  # spark does not exists, create an instance\n",
    "  spark = SparkSession.builder.getOrCreate()\n",
    "  print('create a spark instance')\n"
   ]
  },
  {
   "cell_type": "code",
   "execution_count": 4,
   "metadata": {},
   "outputs": [
    {
     "output_type": "stream",
     "name": "stdout",
     "text": [
      "root\n |-- ID: integer (nullable = true)\n |-- FirstName: string (nullable = true)\n |-- LastName: string (nullable = true)\n |-- Email: string (nullable = true)\n |-- Birthdate: string (nullable = true)\n |-- Street: string (nullable = true)\n |-- PostalCode: string (nullable = true)\n |-- Country: string (nullable = true)\n |-- RowId: string (nullable = true)\n |-- ModifiedDate: string (nullable = true)\n\n"
     ]
    }
   ],
   "source": [
    "customers = spark.read.format(\"csv\").option(\"header\", \"true\").option(\"inferSchema\", \"true\").load(\"Customers.csv\")\n",
    "\n",
    "customers.printSchema()"
   ]
  },
  {
   "cell_type": "code",
   "execution_count": 5,
   "metadata": {},
   "outputs": [
    {
     "output_type": "execute_result",
     "data": {
      "text/plain": [
       "   ID  FirstName LastName                                          Email  \\\n",
       "0   1     Galvin   Franks                          diam@Nullaeuneque.net   \n",
       "1   2     Lucius  Shelton             luctus.ut.pellentesque@magnaUt.org   \n",
       "2   3     Taylor  Walters                    purus.Duis.elementum@mi.org   \n",
       "3   4       Cara   Cooper  Pellentesque.ut.ipsum@liberoMorbiaccumsan.org   \n",
       "4   5  Stephanie    Avery                        ultricies@antedictum.ca   \n",
       "\n",
       "    Birthdate                        Street PostalCode  \\\n",
       "0  1991-03-17    P.O. Box 277, 2586 Nec Rd.     881240   \n",
       "1  2003-07-23     Ap #530-6075 Urna, Street       2921   \n",
       "2  2003-09-12             642-5534 Nunc Ave      30705   \n",
       "3  1984-06-19  P.O. Box 109, 3683 Amet, Ave      01818   \n",
       "4  1992-09-16            567-6446 Ipsum Av.     474070   \n",
       "\n",
       "                     Country                                 RowId  \\\n",
       "0           Pitcairn Islands  3AAA3D94-10CA-C1DB-240E-BCB6E9D413CF   \n",
       "1                    Grenada  877E6185-9918-993D-E676-CBE6E0AF6467   \n",
       "2                  Indonesia  40A47836-48B6-451A-C263-68179927B95B   \n",
       "3  Saint Pierre and Miquelon  6B1880BD-91A1-0516-3460-1901FE0750B0   \n",
       "4                     Monaco  79C30667-C768-E5FE-B1E4-BA5B2AB0C6A0   \n",
       "\n",
       "  ModifiedDate  \n",
       "0   2021-03-31  \n",
       "1   2021-11-16  \n",
       "2   2021-02-19  \n",
       "3   2021-09-18  \n",
       "4   2021-05-22  "
      ],
      "text/html": "<div>\n<style scoped>\n    .dataframe tbody tr th:only-of-type {\n        vertical-align: middle;\n    }\n\n    .dataframe tbody tr th {\n        vertical-align: top;\n    }\n\n    .dataframe thead th {\n        text-align: right;\n    }\n</style>\n<table border=\"1\" class=\"dataframe\">\n  <thead>\n    <tr style=\"text-align: right;\">\n      <th></th>\n      <th>ID</th>\n      <th>FirstName</th>\n      <th>LastName</th>\n      <th>Email</th>\n      <th>Birthdate</th>\n      <th>Street</th>\n      <th>PostalCode</th>\n      <th>Country</th>\n      <th>RowId</th>\n      <th>ModifiedDate</th>\n    </tr>\n  </thead>\n  <tbody>\n    <tr>\n      <th>0</th>\n      <td>1</td>\n      <td>Galvin</td>\n      <td>Franks</td>\n      <td>diam@Nullaeuneque.net</td>\n      <td>1991-03-17</td>\n      <td>P.O. Box 277, 2586 Nec Rd.</td>\n      <td>881240</td>\n      <td>Pitcairn Islands</td>\n      <td>3AAA3D94-10CA-C1DB-240E-BCB6E9D413CF</td>\n      <td>2021-03-31</td>\n    </tr>\n    <tr>\n      <th>1</th>\n      <td>2</td>\n      <td>Lucius</td>\n      <td>Shelton</td>\n      <td>luctus.ut.pellentesque@magnaUt.org</td>\n      <td>2003-07-23</td>\n      <td>Ap #530-6075 Urna, Street</td>\n      <td>2921</td>\n      <td>Grenada</td>\n      <td>877E6185-9918-993D-E676-CBE6E0AF6467</td>\n      <td>2021-11-16</td>\n    </tr>\n    <tr>\n      <th>2</th>\n      <td>3</td>\n      <td>Taylor</td>\n      <td>Walters</td>\n      <td>purus.Duis.elementum@mi.org</td>\n      <td>2003-09-12</td>\n      <td>642-5534 Nunc Ave</td>\n      <td>30705</td>\n      <td>Indonesia</td>\n      <td>40A47836-48B6-451A-C263-68179927B95B</td>\n      <td>2021-02-19</td>\n    </tr>\n    <tr>\n      <th>3</th>\n      <td>4</td>\n      <td>Cara</td>\n      <td>Cooper</td>\n      <td>Pellentesque.ut.ipsum@liberoMorbiaccumsan.org</td>\n      <td>1984-06-19</td>\n      <td>P.O. Box 109, 3683 Amet, Ave</td>\n      <td>01818</td>\n      <td>Saint Pierre and Miquelon</td>\n      <td>6B1880BD-91A1-0516-3460-1901FE0750B0</td>\n      <td>2021-09-18</td>\n    </tr>\n    <tr>\n      <th>4</th>\n      <td>5</td>\n      <td>Stephanie</td>\n      <td>Avery</td>\n      <td>ultricies@antedictum.ca</td>\n      <td>1992-09-16</td>\n      <td>567-6446 Ipsum Av.</td>\n      <td>474070</td>\n      <td>Monaco</td>\n      <td>79C30667-C768-E5FE-B1E4-BA5B2AB0C6A0</td>\n      <td>2021-05-22</td>\n    </tr>\n  </tbody>\n</table>\n</div>"
     },
     "metadata": {},
     "execution_count": 5
    }
   ],
   "source": [
    "pdCustomers = customers.toPandas()\n",
    "\n",
    "pdCustomers.head()"
   ]
  },
  {
   "cell_type": "code",
   "execution_count": 7,
   "metadata": {},
   "outputs": [
    {
     "output_type": "execute_result",
     "data": {
      "text/plain": [
       "       LastName FirstName\n",
       "count       200       200\n",
       "unique      183       182\n",
       "top     William      Cruz\n",
       "freq          3         3"
      ],
      "text/html": "<div>\n<style scoped>\n    .dataframe tbody tr th:only-of-type {\n        vertical-align: middle;\n    }\n\n    .dataframe tbody tr th {\n        vertical-align: top;\n    }\n\n    .dataframe thead th {\n        text-align: right;\n    }\n</style>\n<table border=\"1\" class=\"dataframe\">\n  <thead>\n    <tr style=\"text-align: right;\">\n      <th></th>\n      <th>LastName</th>\n      <th>FirstName</th>\n    </tr>\n  </thead>\n  <tbody>\n    <tr>\n      <th>count</th>\n      <td>200</td>\n      <td>200</td>\n    </tr>\n    <tr>\n      <th>unique</th>\n      <td>183</td>\n      <td>182</td>\n    </tr>\n    <tr>\n      <th>top</th>\n      <td>William</td>\n      <td>Cruz</td>\n    </tr>\n    <tr>\n      <th>freq</th>\n      <td>3</td>\n      <td>3</td>\n    </tr>\n  </tbody>\n</table>\n</div>"
     },
     "metadata": {},
     "execution_count": 7
    }
   ],
   "source": [
    "pdCustomers[[\"LastName\", \"FirstName\"]].describe()"
   ]
  },
  {
   "cell_type": "code",
   "execution_count": 8,
   "metadata": {},
   "outputs": [
    {
     "output_type": "execute_result",
     "data": {
      "text/plain": [
       "               ID\n",
       "count  200.000000\n",
       "mean   100.500000\n",
       "std     57.879185\n",
       "min      1.000000\n",
       "25%     50.750000\n",
       "50%    100.500000\n",
       "75%    150.250000\n",
       "max    200.000000"
      ],
      "text/html": "<div>\n<style scoped>\n    .dataframe tbody tr th:only-of-type {\n        vertical-align: middle;\n    }\n\n    .dataframe tbody tr th {\n        vertical-align: top;\n    }\n\n    .dataframe thead th {\n        text-align: right;\n    }\n</style>\n<table border=\"1\" class=\"dataframe\">\n  <thead>\n    <tr style=\"text-align: right;\">\n      <th></th>\n      <th>ID</th>\n    </tr>\n  </thead>\n  <tbody>\n    <tr>\n      <th>count</th>\n      <td>200.000000</td>\n    </tr>\n    <tr>\n      <th>mean</th>\n      <td>100.500000</td>\n    </tr>\n    <tr>\n      <th>std</th>\n      <td>57.879185</td>\n    </tr>\n    <tr>\n      <th>min</th>\n      <td>1.000000</td>\n    </tr>\n    <tr>\n      <th>25%</th>\n      <td>50.750000</td>\n    </tr>\n    <tr>\n      <th>50%</th>\n      <td>100.500000</td>\n    </tr>\n    <tr>\n      <th>75%</th>\n      <td>150.250000</td>\n    </tr>\n    <tr>\n      <th>max</th>\n      <td>200.000000</td>\n    </tr>\n  </tbody>\n</table>\n</div>"
     },
     "metadata": {},
     "execution_count": 8
    }
   ],
   "source": [
    "pdCustomers.describe()"
   ]
  },
  {
   "cell_type": "code",
   "execution_count": 16,
   "metadata": {},
   "outputs": [
    {
     "output_type": "execute_result",
     "data": {
      "text/plain": [
       "                ID FirstName LastName                       Email   Birthdate  \\\n",
       "count   200.000000       200      200                         200         200   \n",
       "unique         NaN       182      183                         200         199   \n",
       "top            NaN      Cruz  William  Nunc.pulvinar@Maecenas.org  2003-09-12   \n",
       "freq           NaN         3        3                           1           2   \n",
       "mean    100.500000       NaN      NaN                         NaN         NaN   \n",
       "std      57.879185       NaN      NaN                         NaN         NaN   \n",
       "min       1.000000       NaN      NaN                         NaN         NaN   \n",
       "25%      50.750000       NaN      NaN                         NaN         NaN   \n",
       "50%     100.500000       NaN      NaN                         NaN         NaN   \n",
       "75%     150.250000       NaN      NaN                         NaN         NaN   \n",
       "max     200.000000       NaN      NaN                         NaN         NaN   \n",
       "\n",
       "                         Street PostalCode        Country  \\\n",
       "count                       200        200            200   \n",
       "unique                      200        200            134   \n",
       "top     Ap #254-5428 Cum Avenue      67765  New Caledonia   \n",
       "freq                          1          1              5   \n",
       "mean                        NaN        NaN            NaN   \n",
       "std                         NaN        NaN            NaN   \n",
       "min                         NaN        NaN            NaN   \n",
       "25%                         NaN        NaN            NaN   \n",
       "50%                         NaN        NaN            NaN   \n",
       "75%                         NaN        NaN            NaN   \n",
       "max                         NaN        NaN            NaN   \n",
       "\n",
       "                                       RowId ModifiedDate  \n",
       "count                                    200          200  \n",
       "unique                                   200          171  \n",
       "top     804F0088-A9D7-CD87-2219-C2D5D4A1BDB5   2020-11-29  \n",
       "freq                                       1            3  \n",
       "mean                                     NaN          NaN  \n",
       "std                                      NaN          NaN  \n",
       "min                                      NaN          NaN  \n",
       "25%                                      NaN          NaN  \n",
       "50%                                      NaN          NaN  \n",
       "75%                                      NaN          NaN  \n",
       "max                                      NaN          NaN  "
      ],
      "text/html": "<div>\n<style scoped>\n    .dataframe tbody tr th:only-of-type {\n        vertical-align: middle;\n    }\n\n    .dataframe tbody tr th {\n        vertical-align: top;\n    }\n\n    .dataframe thead th {\n        text-align: right;\n    }\n</style>\n<table border=\"1\" class=\"dataframe\">\n  <thead>\n    <tr style=\"text-align: right;\">\n      <th></th>\n      <th>ID</th>\n      <th>FirstName</th>\n      <th>LastName</th>\n      <th>Email</th>\n      <th>Birthdate</th>\n      <th>Street</th>\n      <th>PostalCode</th>\n      <th>Country</th>\n      <th>RowId</th>\n      <th>ModifiedDate</th>\n    </tr>\n  </thead>\n  <tbody>\n    <tr>\n      <th>count</th>\n      <td>200.000000</td>\n      <td>200</td>\n      <td>200</td>\n      <td>200</td>\n      <td>200</td>\n      <td>200</td>\n      <td>200</td>\n      <td>200</td>\n      <td>200</td>\n      <td>200</td>\n    </tr>\n    <tr>\n      <th>unique</th>\n      <td>NaN</td>\n      <td>182</td>\n      <td>183</td>\n      <td>200</td>\n      <td>199</td>\n      <td>200</td>\n      <td>200</td>\n      <td>134</td>\n      <td>200</td>\n      <td>171</td>\n    </tr>\n    <tr>\n      <th>top</th>\n      <td>NaN</td>\n      <td>Cruz</td>\n      <td>William</td>\n      <td>Nunc.pulvinar@Maecenas.org</td>\n      <td>2003-09-12</td>\n      <td>Ap #254-5428 Cum Avenue</td>\n      <td>67765</td>\n      <td>New Caledonia</td>\n      <td>804F0088-A9D7-CD87-2219-C2D5D4A1BDB5</td>\n      <td>2020-11-29</td>\n    </tr>\n    <tr>\n      <th>freq</th>\n      <td>NaN</td>\n      <td>3</td>\n      <td>3</td>\n      <td>1</td>\n      <td>2</td>\n      <td>1</td>\n      <td>1</td>\n      <td>5</td>\n      <td>1</td>\n      <td>3</td>\n    </tr>\n    <tr>\n      <th>mean</th>\n      <td>100.500000</td>\n      <td>NaN</td>\n      <td>NaN</td>\n      <td>NaN</td>\n      <td>NaN</td>\n      <td>NaN</td>\n      <td>NaN</td>\n      <td>NaN</td>\n      <td>NaN</td>\n      <td>NaN</td>\n    </tr>\n    <tr>\n      <th>std</th>\n      <td>57.879185</td>\n      <td>NaN</td>\n      <td>NaN</td>\n      <td>NaN</td>\n      <td>NaN</td>\n      <td>NaN</td>\n      <td>NaN</td>\n      <td>NaN</td>\n      <td>NaN</td>\n      <td>NaN</td>\n    </tr>\n    <tr>\n      <th>min</th>\n      <td>1.000000</td>\n      <td>NaN</td>\n      <td>NaN</td>\n      <td>NaN</td>\n      <td>NaN</td>\n      <td>NaN</td>\n      <td>NaN</td>\n      <td>NaN</td>\n      <td>NaN</td>\n      <td>NaN</td>\n    </tr>\n    <tr>\n      <th>25%</th>\n      <td>50.750000</td>\n      <td>NaN</td>\n      <td>NaN</td>\n      <td>NaN</td>\n      <td>NaN</td>\n      <td>NaN</td>\n      <td>NaN</td>\n      <td>NaN</td>\n      <td>NaN</td>\n      <td>NaN</td>\n    </tr>\n    <tr>\n      <th>50%</th>\n      <td>100.500000</td>\n      <td>NaN</td>\n      <td>NaN</td>\n      <td>NaN</td>\n      <td>NaN</td>\n      <td>NaN</td>\n      <td>NaN</td>\n      <td>NaN</td>\n      <td>NaN</td>\n      <td>NaN</td>\n    </tr>\n    <tr>\n      <th>75%</th>\n      <td>150.250000</td>\n      <td>NaN</td>\n      <td>NaN</td>\n      <td>NaN</td>\n      <td>NaN</td>\n      <td>NaN</td>\n      <td>NaN</td>\n      <td>NaN</td>\n      <td>NaN</td>\n      <td>NaN</td>\n    </tr>\n    <tr>\n      <th>max</th>\n      <td>200.000000</td>\n      <td>NaN</td>\n      <td>NaN</td>\n      <td>NaN</td>\n      <td>NaN</td>\n      <td>NaN</td>\n      <td>NaN</td>\n      <td>NaN</td>\n      <td>NaN</td>\n      <td>NaN</td>\n    </tr>\n  </tbody>\n</table>\n</div>"
     },
     "metadata": {},
     "execution_count": 16
    }
   ],
   "source": [
    "pdCustomers.describe(include='all')"
   ]
  },
  {
   "cell_type": "code",
   "execution_count": 17,
   "metadata": {},
   "outputs": [
    {
     "output_type": "execute_result",
     "data": {
      "text/plain": [
       "'{\"ID\":{\"count\":200.0,\"unique\":null,\"top\":null,\"freq\":null,\"mean\":100.5,\"std\":57.879184514,\"min\":1.0,\"25%\":50.75,\"50%\":100.5,\"75%\":150.25,\"max\":200.0},\"FirstName\":{\"count\":200,\"unique\":182,\"top\":\"Cruz\",\"freq\":3,\"mean\":null,\"std\":null,\"min\":null,\"25%\":null,\"50%\":null,\"75%\":null,\"max\":null},\"LastName\":{\"count\":200,\"unique\":183,\"top\":\"William\",\"freq\":3,\"mean\":null,\"std\":null,\"min\":null,\"25%\":null,\"50%\":null,\"75%\":null,\"max\":null},\"Email\":{\"count\":200,\"unique\":200,\"top\":\"Nunc.pulvinar@Maecenas.org\",\"freq\":1,\"mean\":null,\"std\":null,\"min\":null,\"25%\":null,\"50%\":null,\"75%\":null,\"max\":null},\"Birthdate\":{\"count\":200,\"unique\":199,\"top\":\"2003-09-12\",\"freq\":2,\"mean\":null,\"std\":null,\"min\":null,\"25%\":null,\"50%\":null,\"75%\":null,\"max\":null},\"Street\":{\"count\":200,\"unique\":200,\"top\":\"Ap #254-5428 Cum Avenue\",\"freq\":1,\"mean\":null,\"std\":null,\"min\":null,\"25%\":null,\"50%\":null,\"75%\":null,\"max\":null},\"PostalCode\":{\"count\":200,\"unique\":200,\"top\":\"67765\",\"freq\":1,\"mean\":null,\"std\":null,\"min\":null,\"25%\":null,\"50%\":null,\"75%\":null,\"max\":null},\"Country\":{\"count\":200,\"unique\":134,\"top\":\"New Caledonia\",\"freq\":5,\"mean\":null,\"std\":null,\"min\":null,\"25%\":null,\"50%\":null,\"75%\":null,\"max\":null},\"RowId\":{\"count\":200,\"unique\":200,\"top\":\"804F0088-A9D7-CD87-2219-C2D5D4A1BDB5\",\"freq\":1,\"mean\":null,\"std\":null,\"min\":null,\"25%\":null,\"50%\":null,\"75%\":null,\"max\":null},\"ModifiedDate\":{\"count\":200,\"unique\":171,\"top\":\"2020-11-29\",\"freq\":3,\"mean\":null,\"std\":null,\"min\":null,\"25%\":null,\"50%\":null,\"75%\":null,\"max\":null}}'"
      ]
     },
     "metadata": {},
     "execution_count": 17
    }
   ],
   "source": [
    "pdCustomers.describe(include='all').to_json()"
   ]
  },
  {
   "cell_type": "code",
   "execution_count": 33,
   "metadata": {},
   "outputs": [
    {
     "output_type": "execute_result",
     "data": {
      "text/plain": [
       "      ID FirstName LastName                            Email   Birthdate  \\\n",
       "197  198     Kitra  Hubbard                   et@lectusa.org  1988-02-08   \n",
       "198  199     Colby    Quinn  cursus.Integer@Maecenasmi.co.uk  1979-06-28   \n",
       "199  200    Declan   Decker              Cum@penatibus.co.uk  1981-08-26   \n",
       "\n",
       "                    Street PostalCode        Country  \\\n",
       "197   Ap #221-5327 Sed Rd.       9384  New Caledonia   \n",
       "198  435-6566 Eleifend Rd.    L1C 9B3  French Guiana   \n",
       "199   870-6125 Ornare. Av.     L6 0ZR        Liberia   \n",
       "\n",
       "                                    RowId ModifiedDate  \n",
       "197  F74BFBF0-1FF3-5C9F-4F9B-5BA41434DE61   2020-06-28  \n",
       "198  D318472C-9A8E-CF79-BDD3-2999C0EAE4F7   2020-10-25  \n",
       "199  BEC6C4BC-BA38-183B-8DA2-E49D4D0EF179   2020-06-18  "
      ],
      "text/html": "<div>\n<style scoped>\n    .dataframe tbody tr th:only-of-type {\n        vertical-align: middle;\n    }\n\n    .dataframe tbody tr th {\n        vertical-align: top;\n    }\n\n    .dataframe thead th {\n        text-align: right;\n    }\n</style>\n<table border=\"1\" class=\"dataframe\">\n  <thead>\n    <tr style=\"text-align: right;\">\n      <th></th>\n      <th>ID</th>\n      <th>FirstName</th>\n      <th>LastName</th>\n      <th>Email</th>\n      <th>Birthdate</th>\n      <th>Street</th>\n      <th>PostalCode</th>\n      <th>Country</th>\n      <th>RowId</th>\n      <th>ModifiedDate</th>\n    </tr>\n  </thead>\n  <tbody>\n    <tr>\n      <th>197</th>\n      <td>198</td>\n      <td>Kitra</td>\n      <td>Hubbard</td>\n      <td>et@lectusa.org</td>\n      <td>1988-02-08</td>\n      <td>Ap #221-5327 Sed Rd.</td>\n      <td>9384</td>\n      <td>New Caledonia</td>\n      <td>F74BFBF0-1FF3-5C9F-4F9B-5BA41434DE61</td>\n      <td>2020-06-28</td>\n    </tr>\n    <tr>\n      <th>198</th>\n      <td>199</td>\n      <td>Colby</td>\n      <td>Quinn</td>\n      <td>cursus.Integer@Maecenasmi.co.uk</td>\n      <td>1979-06-28</td>\n      <td>435-6566 Eleifend Rd.</td>\n      <td>L1C 9B3</td>\n      <td>French Guiana</td>\n      <td>D318472C-9A8E-CF79-BDD3-2999C0EAE4F7</td>\n      <td>2020-10-25</td>\n    </tr>\n    <tr>\n      <th>199</th>\n      <td>200</td>\n      <td>Declan</td>\n      <td>Decker</td>\n      <td>Cum@penatibus.co.uk</td>\n      <td>1981-08-26</td>\n      <td>870-6125 Ornare. Av.</td>\n      <td>L6 0ZR</td>\n      <td>Liberia</td>\n      <td>BEC6C4BC-BA38-183B-8DA2-E49D4D0EF179</td>\n      <td>2020-06-18</td>\n    </tr>\n  </tbody>\n</table>\n</div>"
     },
     "metadata": {},
     "execution_count": 33
    }
   ],
   "source": [
    "# Viewing last 3 lines\n",
    "pdCustomers.tail(3)\n",
    "\n",
    "# Viewing first 3 lines\n",
    "# pdCustomers.head(3)"
   ]
  },
  {
   "cell_type": "code",
   "execution_count": 21,
   "metadata": {},
   "outputs": [
    {
     "output_type": "execute_result",
     "data": {
      "text/plain": [
       "count     3.000000\n",
       "mean     38.333333\n",
       "std      18.230012\n",
       "min      22.000000\n",
       "25%      28.500000\n",
       "50%      35.000000\n",
       "75%      46.500000\n",
       "max      58.000000\n",
       "Name: Age, dtype: float64"
      ]
     },
     "metadata": {},
     "execution_count": 21
    }
   ],
   "source": [
    "ages = pd.Series([22, 35, 58], name=\"Age\")\n",
    "\n",
    "ages.describe()"
   ]
  }
 ]
}